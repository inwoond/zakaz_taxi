{
 "cells": [
  {
   "cell_type": "markdown",
   "metadata": {
    "toc": true
   },
   "source": [
    "<h1>Содержание<span class=\"tocSkip\"></span></h1>\n",
    "<div class=\"toc\"><ul class=\"toc-item\"><li><span><a href=\"#Подготовка\" data-toc-modified-id=\"Подготовка-1\"><span class=\"toc-item-num\">1&nbsp;&nbsp;</span>Подготовка</a></span><ul class=\"toc-item\"><li><span><a href=\"#Вывод\" data-toc-modified-id=\"Вывод-1.1\"><span class=\"toc-item-num\">1.1&nbsp;&nbsp;</span>Вывод</a></span></li></ul></li><li><span><a href=\"#Анализ\" data-toc-modified-id=\"Анализ-2\"><span class=\"toc-item-num\">2&nbsp;&nbsp;</span>Анализ</a></span><ul class=\"toc-item\"><li><span><a href=\"#Вывод\" data-toc-modified-id=\"Вывод-2.1\"><span class=\"toc-item-num\">2.1&nbsp;&nbsp;</span>Вывод</a></span></li></ul></li><li><span><a href=\"#Обучение\" data-toc-modified-id=\"Обучение-3\"><span class=\"toc-item-num\">3&nbsp;&nbsp;</span>Обучение</a></span><ul class=\"toc-item\"><li><span><a href=\"#Подготовка-признаков\" data-toc-modified-id=\"Подготовка-признаков-3.1\"><span class=\"toc-item-num\">3.1&nbsp;&nbsp;</span>Подготовка признаков</a></span></li></ul></li><li><span><a href=\"#Тестирование\" data-toc-modified-id=\"Тестирование-4\"><span class=\"toc-item-num\">4&nbsp;&nbsp;</span>Тестирование</a></span></li><li><span><a href=\"#Вывод\" data-toc-modified-id=\"Вывод-5\"><span class=\"toc-item-num\">5&nbsp;&nbsp;</span>Вывод</a></span></li><li><span><a href=\"#Чек-лист-проверки\" data-toc-modified-id=\"Чек-лист-проверки-6\"><span class=\"toc-item-num\">6&nbsp;&nbsp;</span>Чек-лист проверки</a></span></li></ul></div>"
   ]
  },
  {
   "cell_type": "markdown",
   "metadata": {},
   "source": [
    "#  Прогнозирование заказов такси"
   ]
  },
  {
   "cell_type": "markdown",
   "metadata": {},
   "source": [
    "Компания «Чётенькое такси» собрала исторические данные о заказах такси в аэропортах. Чтобы привлекать больше водителей в период пиковой нагрузки, нужно спрогнозировать количество заказов такси на следующий час. Постройте модель для такого предсказания.\n",
    "\n",
    "Значение метрики *RMSE* на тестовой выборке должно быть не больше 48.\n",
    "\n",
    "Вам нужно:\n",
    "\n",
    "1. Загрузить данные и выполнить их ресемплирование по одному часу.\n",
    "2. Проанализировать данные.\n",
    "3. Обучить разные модели с различными гиперпараметрами. Сделать тестовую выборку размером 10% от исходных данных.\n",
    "4. Проверить данные на тестовой выборке и сделать выводы.\n",
    "\n",
    "\n",
    "Данные лежат в файле `taxi.csv`. Количество заказов находится в столбце `num_orders` (от англ. *number of orders*, «число заказов»)."
   ]
  },
  {
   "cell_type": "markdown",
   "metadata": {},
   "source": [
    "## Подготовка"
   ]
  },
  {
   "cell_type": "code",
   "execution_count": 1,
   "metadata": {},
   "outputs": [],
   "source": [
    "import pandas as pd\n",
    "import numpy as np\n",
    "import pandas as pd\n",
    "import matplotlib.pyplot as plt\n",
    "\n",
    "from statsmodels.tsa.seasonal import STL\n",
    "from sklearn.model_selection import train_test_split\n",
    "from sklearn.preprocessing import StandardScaler\n",
    "from sklearn.metrics import mean_squared_error\n",
    "from sklearn.preprocessing import PolynomialFeatures\n",
    "from sklearn.linear_model import LinearRegression\n",
    "from sklearn.linear_model import Ridge\n",
    "from sklearn.tree import DecisionTreeRegressor\n",
    "from sklearn.ensemble import ExtraTreesRegressor\n",
    "from catboost import Pool, CatBoostRegressor, cv\n",
    "from lightgbm import LGBMRegressor\n",
    "from sklearn.model_selection import cross_val_score\n",
    "from sklearn.model_selection import GridSearchCV\n",
    "from sklearn.pipeline import Pipeline\n",
    "from sklearn.ensemble import RandomForestRegressor\n",
    "from sklearn.model_selection import RandomizedSearchCV\n",
    "from sklearn.model_selection import TimeSeriesSplit\n",
    "from catboost import CatBoostRegressor\n",
    "from sklearn.ensemble import GradientBoostingRegressor\n",
    "from sklearn.linear_model import LinearRegression\n",
    "from sklearn.preprocessing import StandardScaler, OneHotEncoder\n",
    "from sklearn.compose import ColumnTransformer"
   ]
  },
  {
   "cell_type": "code",
   "execution_count": 2,
   "metadata": {},
   "outputs": [],
   "source": [
    "df = pd.read_csv('/datasets/taxi.csv')"
   ]
  },
  {
   "cell_type": "code",
   "execution_count": 3,
   "metadata": {},
   "outputs": [],
   "source": [
    "def info_data(data):\n",
    "    display(data.head())\n",
    "    print('')\n",
    "    display(data.info())\n",
    "    print('')\n",
    "    display(data.describe().T)\n",
    "    print('')\n",
    "    print('___________')\n",
    "    print('Кол-во пропусков:\\n', data.isna().sum())\n",
    "    print('___________')\n",
    "    print('Кол-во явных дубликатов:', data.duplicated().sum())\n",
    "    print('___________')"
   ]
  },
  {
   "cell_type": "markdown",
   "metadata": {},
   "source": [
    "### Вывод\n",
    "\n",
    "Сделаны импорты, данные загружены, написана функция для анализа"
   ]
  },
  {
   "cell_type": "markdown",
   "metadata": {},
   "source": [
    "## Анализ"
   ]
  },
  {
   "cell_type": "code",
   "execution_count": 4,
   "metadata": {},
   "outputs": [
    {
     "data": {
      "text/html": [
       "<div>\n",
       "<style scoped>\n",
       "    .dataframe tbody tr th:only-of-type {\n",
       "        vertical-align: middle;\n",
       "    }\n",
       "\n",
       "    .dataframe tbody tr th {\n",
       "        vertical-align: top;\n",
       "    }\n",
       "\n",
       "    .dataframe thead th {\n",
       "        text-align: right;\n",
       "    }\n",
       "</style>\n",
       "<table border=\"1\" class=\"dataframe\">\n",
       "  <thead>\n",
       "    <tr style=\"text-align: right;\">\n",
       "      <th></th>\n",
       "      <th>datetime</th>\n",
       "      <th>num_orders</th>\n",
       "    </tr>\n",
       "  </thead>\n",
       "  <tbody>\n",
       "    <tr>\n",
       "      <th>0</th>\n",
       "      <td>2018-03-01 00:00:00</td>\n",
       "      <td>9</td>\n",
       "    </tr>\n",
       "    <tr>\n",
       "      <th>1</th>\n",
       "      <td>2018-03-01 00:10:00</td>\n",
       "      <td>14</td>\n",
       "    </tr>\n",
       "    <tr>\n",
       "      <th>2</th>\n",
       "      <td>2018-03-01 00:20:00</td>\n",
       "      <td>28</td>\n",
       "    </tr>\n",
       "    <tr>\n",
       "      <th>3</th>\n",
       "      <td>2018-03-01 00:30:00</td>\n",
       "      <td>20</td>\n",
       "    </tr>\n",
       "    <tr>\n",
       "      <th>4</th>\n",
       "      <td>2018-03-01 00:40:00</td>\n",
       "      <td>32</td>\n",
       "    </tr>\n",
       "  </tbody>\n",
       "</table>\n",
       "</div>"
      ],
      "text/plain": [
       "              datetime  num_orders\n",
       "0  2018-03-01 00:00:00           9\n",
       "1  2018-03-01 00:10:00          14\n",
       "2  2018-03-01 00:20:00          28\n",
       "3  2018-03-01 00:30:00          20\n",
       "4  2018-03-01 00:40:00          32"
      ]
     },
     "metadata": {},
     "output_type": "display_data"
    },
    {
     "name": "stdout",
     "output_type": "stream",
     "text": [
      "\n",
      "<class 'pandas.core.frame.DataFrame'>\n",
      "RangeIndex: 26496 entries, 0 to 26495\n",
      "Data columns (total 2 columns):\n",
      " #   Column      Non-Null Count  Dtype \n",
      "---  ------      --------------  ----- \n",
      " 0   datetime    26496 non-null  object\n",
      " 1   num_orders  26496 non-null  int64 \n",
      "dtypes: int64(1), object(1)\n",
      "memory usage: 414.1+ KB\n"
     ]
    },
    {
     "data": {
      "text/plain": [
       "None"
      ]
     },
     "metadata": {},
     "output_type": "display_data"
    },
    {
     "name": "stdout",
     "output_type": "stream",
     "text": [
      "\n"
     ]
    },
    {
     "data": {
      "text/html": [
       "<div>\n",
       "<style scoped>\n",
       "    .dataframe tbody tr th:only-of-type {\n",
       "        vertical-align: middle;\n",
       "    }\n",
       "\n",
       "    .dataframe tbody tr th {\n",
       "        vertical-align: top;\n",
       "    }\n",
       "\n",
       "    .dataframe thead th {\n",
       "        text-align: right;\n",
       "    }\n",
       "</style>\n",
       "<table border=\"1\" class=\"dataframe\">\n",
       "  <thead>\n",
       "    <tr style=\"text-align: right;\">\n",
       "      <th></th>\n",
       "      <th>count</th>\n",
       "      <th>mean</th>\n",
       "      <th>std</th>\n",
       "      <th>min</th>\n",
       "      <th>25%</th>\n",
       "      <th>50%</th>\n",
       "      <th>75%</th>\n",
       "      <th>max</th>\n",
       "    </tr>\n",
       "  </thead>\n",
       "  <tbody>\n",
       "    <tr>\n",
       "      <th>num_orders</th>\n",
       "      <td>26496.0</td>\n",
       "      <td>14.070463</td>\n",
       "      <td>9.21133</td>\n",
       "      <td>0.0</td>\n",
       "      <td>8.0</td>\n",
       "      <td>13.0</td>\n",
       "      <td>19.0</td>\n",
       "      <td>119.0</td>\n",
       "    </tr>\n",
       "  </tbody>\n",
       "</table>\n",
       "</div>"
      ],
      "text/plain": [
       "              count       mean      std  min  25%   50%   75%    max\n",
       "num_orders  26496.0  14.070463  9.21133  0.0  8.0  13.0  19.0  119.0"
      ]
     },
     "metadata": {},
     "output_type": "display_data"
    },
    {
     "name": "stdout",
     "output_type": "stream",
     "text": [
      "\n",
      "___________\n",
      "Кол-во пропусков:\n",
      " datetime      0\n",
      "num_orders    0\n",
      "dtype: int64\n",
      "___________\n",
      "Кол-во явных дубликатов: 0\n",
      "___________\n"
     ]
    }
   ],
   "source": [
    "info_data(df)"
   ]
  },
  {
   "cell_type": "markdown",
   "metadata": {},
   "source": [
    "Пропусков и дубликатов нет"
   ]
  },
  {
   "cell_type": "code",
   "execution_count": 5,
   "metadata": {},
   "outputs": [],
   "source": [
    "df['datetime'] = pd.to_datetime(df['datetime'])"
   ]
  },
  {
   "cell_type": "code",
   "execution_count": 6,
   "metadata": {
    "scrolled": true
   },
   "outputs": [
    {
     "name": "stdout",
     "output_type": "stream",
     "text": [
      "<class 'pandas.core.frame.DataFrame'>\n",
      "RangeIndex: 26496 entries, 0 to 26495\n",
      "Data columns (total 2 columns):\n",
      " #   Column      Non-Null Count  Dtype         \n",
      "---  ------      --------------  -----         \n",
      " 0   datetime    26496 non-null  datetime64[ns]\n",
      " 1   num_orders  26496 non-null  int64         \n",
      "dtypes: datetime64[ns](1), int64(1)\n",
      "memory usage: 414.1 KB\n"
     ]
    }
   ],
   "source": [
    "df.info()"
   ]
  },
  {
   "cell_type": "code",
   "execution_count": 7,
   "metadata": {},
   "outputs": [],
   "source": [
    "df.set_index('datetime', inplace=True)"
   ]
  },
  {
   "cell_type": "code",
   "execution_count": 8,
   "metadata": {},
   "outputs": [],
   "source": [
    "df = df.resample('1H').sum()"
   ]
  },
  {
   "cell_type": "markdown",
   "metadata": {},
   "source": [
    "По заказу бизнеса нужнен промежуток в 1 час"
   ]
  },
  {
   "cell_type": "code",
   "execution_count": 9,
   "metadata": {},
   "outputs": [
    {
     "data": {
      "text/plain": [
       "True"
      ]
     },
     "execution_count": 9,
     "metadata": {},
     "output_type": "execute_result"
    }
   ],
   "source": [
    "df.index.is_unique"
   ]
  },
  {
   "cell_type": "code",
   "execution_count": 10,
   "metadata": {},
   "outputs": [
    {
     "data": {
      "image/png": "[encoded data removed]",
      "text/plain": [
       "<Figure size 864x432 with 1 Axes>"
      ]
     },
     "metadata": {
      "needs_background": "light"
     },
     "output_type": "display_data"
    }
   ],
   "source": [
    "plt.figure(figsize=(12, 6))\n",
    "plt.plot(df.index, df['num_orders'], label='num_orders',  alpha=0.8)\n",
    "plt.plot(df.index, df['num_orders'].rolling(24).mean(), label='rolling_mean', linewidth=3)\n",
    "plt.title ('Почасовые заказы такси')\n",
    "plt.xlabel('Дата');  plt.ylabel('Количество заказов')\n",
    "plt.legend();  plt.tight_layout();  plt.show()\n"
   ]
  },
  {
   "cell_type": "markdown",
   "metadata": {},
   "source": [
    "Спрос растёт на протяжении всего периода и к августу-сентябрю становится почти вдвое выше мартовского, при этом амплитуда всплесков заметно расширяется."
   ]
  },
  {
   "cell_type": "code",
   "execution_count": 11,
   "metadata": {},
   "outputs": [],
   "source": [
    "series = df['num_orders']           \n",
    "\n",
    "stl = STL(series, period=24, robust=True)  \n",
    "res = stl.fit()\n",
    "seasonal = res.seasonal"
   ]
  },
  {
   "cell_type": "code",
   "execution_count": 12,
   "metadata": {
    "scrolled": false
   },
   "outputs": [
    {
     "data": {
      "image/png": "[encoded data removed]",
      "text/plain": [
       "<Figure size 864x432 with 1 Axes>"
      ]
     },
     "metadata": {
      "needs_background": "light"
     },
     "output_type": "display_data"
    }
   ],
   "source": [
    "seasonal_first3 = seasonal.iloc[:72]\n",
    "\n",
    "plt.figure(figsize=(12,6))\n",
    "plt.plot(seasonal_first3.index, seasonal_first3)\n",
    "plt.title('Сезонная компонента числа вызовов такси')\n",
    "plt.xlabel('Время')\n",
    "plt.ylabel('Число вызовов')\n",
    "plt.tight_layout()\n",
    "plt.show()\n"
   ]
  },
  {
   "cell_type": "markdown",
   "metadata": {},
   "source": [
    "Амплитуда колебаний держится примерно одинаковой три дня подряд, что подтверждает устойчивый 24-часовой паттерн спроса. "
   ]
  },
  {
   "cell_type": "markdown",
   "metadata": {},
   "source": [
    "Чтобы правильно подобрать количество лагов, построим график коэффициентов автокорреляции:"
   ]
  },
  {
   "cell_type": "code",
   "execution_count": 13,
   "metadata": {},
   "outputs": [
    {
     "data": {
      "image/png": "[encoded data removed]",
      "text/plain": [
       "<Figure size 864x432 with 1 Axes>"
      ]
     },
     "metadata": {
      "needs_background": "light"
     },
     "output_type": "display_data"
    }
   ],
   "source": [
    "max_lag = 170\n",
    "corrs = [series.corr(series.shift(lag)) \n",
    "         for lag in range(max_lag + 1)]\n",
    "\n",
    "\n",
    "plt.figure(figsize=(12,6))\n",
    "plt.stem(range(max_lag + 1), corrs, use_line_collection=True)\n",
    "conf = 1.96 / np.sqrt(len(series))          \n",
    "plt.fill_between(range(max_lag + 1), -conf, conf, \n",
    "                 color='lightblue', alpha=0.5)\n",
    "\n",
    "plt.title('Коэффициент корреляции сдвинутых столбцов с исходным')\n",
    "plt.xlabel('Число сдвигов')\n",
    "plt.ylabel('Коэффициент корреляции')\n",
    "plt.ylim(-0.1, 1.05)\n",
    "plt.tight_layout()\n",
    "plt.show()\n"
   ]
  },
  {
   "cell_type": "markdown",
   "metadata": {},
   "source": [
    "На графике, чётко просматривается пик на лаге 168 ч — это явное подтверждение недельной сезонности. Выберем лаги 24 и 168"
   ]
  },
  {
   "cell_type": "markdown",
   "metadata": {},
   "source": [
    "### Вывод"
   ]
  },
  {
   "cell_type": "markdown",
   "metadata": {},
   "source": [
    "Исходный датасет содержит 26 496 строк с двумя полями — отметка времени и количество заказов. Дата приведена к datetime64, после чего ряд агрегирован до часового шага, как требует бизнес-задача \n",
    "\n",
    "С марта по август 2018-го средний спрос вырос почти вдвое: скользящее среднее (окно 24 ч) поднимается с ≈60 до ≈120 заказов/час \n",
    "\n",
    "Виден устойчивая суточная сезонность, а также прослеживается устойчивая недельная сезонность.Будет выбран lag_168, чтобы не терять эту регулярность\n",
    "\n",
    "Амплитуда колебаний растёт вместе с трендом единичные выбросы (> 400 заказов/ч)"
   ]
  },
  {
   "cell_type": "markdown",
   "metadata": {},
   "source": [
    "## Обучение"
   ]
  },
  {
   "cell_type": "markdown",
   "metadata": {},
   "source": [
    "### Подготовка признаков"
   ]
  },
  {
   "cell_type": "markdown",
   "metadata": {},
   "source": [
    "Добавим столбцы с признаками\n",
    "\n",
    "Так как мы обнаружили сезонность внутри суток и сезонность внутри недели создадим два столбца с признаками: часы и день недели"
   ]
  },
  {
   "cell_type": "code",
   "execution_count": 14,
   "metadata": {},
   "outputs": [
    {
     "data": {
      "text/html": [
       "<div>\n",
       "<style scoped>\n",
       "    .dataframe tbody tr th:only-of-type {\n",
       "        vertical-align: middle;\n",
       "    }\n",
       "\n",
       "    .dataframe tbody tr th {\n",
       "        vertical-align: top;\n",
       "    }\n",
       "\n",
       "    .dataframe thead th {\n",
       "        text-align: right;\n",
       "    }\n",
       "</style>\n",
       "<table border=\"1\" class=\"dataframe\">\n",
       "  <thead>\n",
       "    <tr style=\"text-align: right;\">\n",
       "      <th></th>\n",
       "      <th>num_orders</th>\n",
       "      <th>hour</th>\n",
       "      <th>dayofweek</th>\n",
       "    </tr>\n",
       "    <tr>\n",
       "      <th>datetime</th>\n",
       "      <th></th>\n",
       "      <th></th>\n",
       "      <th></th>\n",
       "    </tr>\n",
       "  </thead>\n",
       "  <tbody>\n",
       "    <tr>\n",
       "      <th>2018-03-01 00:00:00</th>\n",
       "      <td>124</td>\n",
       "      <td>0</td>\n",
       "      <td>3</td>\n",
       "    </tr>\n",
       "    <tr>\n",
       "      <th>2018-03-01 01:00:00</th>\n",
       "      <td>85</td>\n",
       "      <td>1</td>\n",
       "      <td>3</td>\n",
       "    </tr>\n",
       "    <tr>\n",
       "      <th>2018-03-01 02:00:00</th>\n",
       "      <td>71</td>\n",
       "      <td>2</td>\n",
       "      <td>3</td>\n",
       "    </tr>\n",
       "    <tr>\n",
       "      <th>2018-03-01 03:00:00</th>\n",
       "      <td>66</td>\n",
       "      <td>3</td>\n",
       "      <td>3</td>\n",
       "    </tr>\n",
       "    <tr>\n",
       "      <th>2018-03-01 04:00:00</th>\n",
       "      <td>43</td>\n",
       "      <td>4</td>\n",
       "      <td>3</td>\n",
       "    </tr>\n",
       "  </tbody>\n",
       "</table>\n",
       "</div>"
      ],
      "text/plain": [
       "                     num_orders  hour  dayofweek\n",
       "datetime                                        \n",
       "2018-03-01 00:00:00         124     0          3\n",
       "2018-03-01 01:00:00          85     1          3\n",
       "2018-03-01 02:00:00          71     2          3\n",
       "2018-03-01 03:00:00          66     3          3\n",
       "2018-03-01 04:00:00          43     4          3"
      ]
     },
     "execution_count": 14,
     "metadata": {},
     "output_type": "execute_result"
    }
   ],
   "source": [
    "df['hour'] = df.index.hour\n",
    "df['dayofweek'] = df.index.dayofweek\n",
    "\n",
    "df.head()"
   ]
  },
  {
   "cell_type": "markdown",
   "metadata": {},
   "source": [
    "Функция lags() добавляет к ряду выбранные «ключевые» лаги (по умолчанию 24 ч и 168 ч) + скользящее среднее за сутки. Ниже формируем два набора признаков:  df_24  – только lag_24, df_168 – только lag_168. Сравним, как разные «точки памяти» влияют на качество модели."
   ]
  },
  {
   "cell_type": "code",
   "execution_count": 15,
   "metadata": {},
   "outputs": [
    {
     "data": {
      "text/html": [
       "<div>\n",
       "<style scoped>\n",
       "    .dataframe tbody tr th:only-of-type {\n",
       "        vertical-align: middle;\n",
       "    }\n",
       "\n",
       "    .dataframe tbody tr th {\n",
       "        vertical-align: top;\n",
       "    }\n",
       "\n",
       "    .dataframe thead th {\n",
       "        text-align: right;\n",
       "    }\n",
       "</style>\n",
       "<table border=\"1\" class=\"dataframe\">\n",
       "  <thead>\n",
       "    <tr style=\"text-align: right;\">\n",
       "      <th></th>\n",
       "      <th>num_orders</th>\n",
       "      <th>lag_24</th>\n",
       "      <th>roll_mean_24</th>\n",
       "    </tr>\n",
       "    <tr>\n",
       "      <th>datetime</th>\n",
       "      <th></th>\n",
       "      <th></th>\n",
       "      <th></th>\n",
       "    </tr>\n",
       "  </thead>\n",
       "  <tbody>\n",
       "    <tr>\n",
       "      <th>2018-03-02 00:00:00</th>\n",
       "      <td>90</td>\n",
       "      <td>124.0</td>\n",
       "      <td>56.833333</td>\n",
       "    </tr>\n",
       "    <tr>\n",
       "      <th>2018-03-02 01:00:00</th>\n",
       "      <td>120</td>\n",
       "      <td>85.0</td>\n",
       "      <td>55.416667</td>\n",
       "    </tr>\n",
       "    <tr>\n",
       "      <th>2018-03-02 02:00:00</th>\n",
       "      <td>75</td>\n",
       "      <td>71.0</td>\n",
       "      <td>56.875000</td>\n",
       "    </tr>\n",
       "    <tr>\n",
       "      <th>2018-03-02 03:00:00</th>\n",
       "      <td>64</td>\n",
       "      <td>66.0</td>\n",
       "      <td>57.041667</td>\n",
       "    </tr>\n",
       "    <tr>\n",
       "      <th>2018-03-02 04:00:00</th>\n",
       "      <td>20</td>\n",
       "      <td>43.0</td>\n",
       "      <td>56.958333</td>\n",
       "    </tr>\n",
       "  </tbody>\n",
       "</table>\n",
       "</div>"
      ],
      "text/plain": [
       "                     num_orders  lag_24  roll_mean_24\n",
       "datetime                                             \n",
       "2018-03-02 00:00:00          90   124.0     56.833333\n",
       "2018-03-02 01:00:00         120    85.0     55.416667\n",
       "2018-03-02 02:00:00          75    71.0     56.875000\n",
       "2018-03-02 03:00:00          64    66.0     57.041667\n",
       "2018-03-02 04:00:00          20    43.0     56.958333"
      ]
     },
     "execution_count": 15,
     "metadata": {},
     "output_type": "execute_result"
    }
   ],
   "source": [
    "def lags(series, lags=(24, 168), roll_window=24):\n",
    "    df = pd.DataFrame({'num_orders': series})\n",
    "\n",
    "    for l in lags:\n",
    "        df[f'lag_{l}'] = series.shift(l)\n",
    "\n",
    "    df[f'roll_mean_{roll_window}'] = (series.shift(1).rolling(roll_window).mean())\n",
    "\n",
    "    return df.dropna()\n",
    "\n",
    "\n",
    "series = df['num_orders']      \n",
    "\n",
    "\n",
    "df_24  = lags(series, lags=[24])     \n",
    "df_168 = lags(series, lags=[168])\n",
    "\n",
    "df_168.head()\n",
    "df_24.head()"
   ]
  },
  {
   "cell_type": "markdown",
   "metadata": {},
   "source": [
    "Сделаем функцию model_adjuster: ей отдаём модель и сетку гиперпараметров, а внутри она берёт каждый из трёх датасетов, выделяет тренировочную часть, гоняет TimeSeriesSplit, подбирает лучшие настройки и складывает их в списки. В финале эти списки превращаем в аккуратную таблицу-сводку с лейблом модели, числом лагов и её RMSE.\n",
    "\n",
    "\n",
    "\n",
    "\n",
    "\n",
    "\n",
    "\n"
   ]
  },
  {
   "cell_type": "code",
   "execution_count": 27,
   "metadata": {},
   "outputs": [],
   "source": [
    "name_list = []\n",
    "rmse_list = []\n",
    "lags_list = []\n",
    "\n",
    "def model_adjuster(model, params, name, scale_numeric=False):\n",
    "    rscv = RandomizedSearchCV(\n",
    "        estimator=model,\n",
    "        param_distributions=params,\n",
    "        scoring='neg_root_mean_squared_error',\n",
    "        cv=TimeSeriesSplit(),\n",
    "        random_state=12345)       \n",
    "\n",
    "    for lag, df in [(24, df_24), (168, df_168)]:\n",
    "        train, test = train_test_split(df.dropna(), shuffle=False, test_size=0.1)\n",
    "\n",
    "        X_train = train.drop(columns='num_orders')\n",
    "        y_train = train['num_orders']\n",
    "\n",
    "        if scale_numeric:\n",
    "            scaler = StandardScaler()\n",
    "            X_train = pd.DataFrame(\n",
    "                scaler.fit_transform(X_train),\n",
    "                index=X_train.index,\n",
    "                columns=X_train.columns\n",
    "            )\n",
    "\n",
    "        best = rscv.fit(X_train, y_train)\n",
    "        rmse = -best.best_score_\n",
    "\n",
    "        print(f'lag={lag} | RMSE={rmse:.2f} | params={best.best_params_}')\n",
    "        name_list.append(name)\n",
    "        rmse_list.append(rmse)\n",
    "        lags_list.append(lag)\n",
    "\n",
    "  "
   ]
  },
  {
   "cell_type": "markdown",
   "metadata": {},
   "source": [
    "Используем четыре модели: линейная регресия, случайный лес, градиентный бустинг и Catboost"
   ]
  },
  {
   "cell_type": "code",
   "execution_count": 41,
   "metadata": {
    "scrolled": true
   },
   "outputs": [
    {
     "name": "stdout",
     "output_type": "stream",
     "text": [
      "Линейная регрессия \n",
      "\n",
      "lag=24 | RMSE=29.25 | params={}\n",
      "lag=168 | RMSE=24.59 | params={}\n"
     ]
    },
    {
     "name": "stderr",
     "output_type": "stream",
     "text": [
      "/opt/conda/lib/python3.9/site-packages/sklearn/model_selection/_search.py:285: UserWarning: The total space of parameters 1 is smaller than n_iter=10. Running 1 iterations. For exhaustive searches, use GridSearchCV.\n",
      "  warnings.warn(\n",
      "/opt/conda/lib/python3.9/site-packages/sklearn/model_selection/_search.py:285: UserWarning: The total space of parameters 1 is smaller than n_iter=10. Running 1 iterations. For exhaustive searches, use GridSearchCV.\n",
      "  warnings.warn(\n"
     ]
    }
   ],
   "source": [
    "print('Линейная регрессия \\n')\n",
    "model_adjuster(LinearRegression(), {}, 'Линейная регрессия', scale_numeric=True)"
   ]
  },
  {
   "cell_type": "code",
   "execution_count": 29,
   "metadata": {},
   "outputs": [
    {
     "name": "stdout",
     "output_type": "stream",
     "text": [
      "Случайный лес \n",
      "\n",
      "lag=24 | RMSE=29.61 | params={'n_estimators': 11, 'max_depth': 6}\n",
      "lag=168 | RMSE=25.17 | params={'n_estimators': 11, 'max_depth': 6}\n"
     ]
    }
   ],
   "source": [
    "print('Случайный лес \\n')\n",
    "model = RandomForestRegressor(random_state=12345) \n",
    "params={'max_depth':range(1,21), \n",
    "        'n_estimators':range(1,21)} \n",
    "model_adjuster(model, params, 'Случайный лес') "
   ]
  },
  {
   "cell_type": "code",
   "execution_count": 30,
   "metadata": {},
   "outputs": [
    {
     "name": "stdout",
     "output_type": "stream",
     "text": [
      "Градиентный бустинг\n",
      "\n",
      "lag=24 | RMSE=31.48 | params={'n_estimators': 300, 'max_depth': 3, 'learning_rate': 0.05}\n",
      "lag=168 | RMSE=26.15 | params={'n_estimators': 300, 'max_depth': 3, 'learning_rate': 0.05}\n"
     ]
    }
   ],
   "source": [
    "print('Градиентный бустинг\\n')\n",
    "model = GradientBoostingRegressor(random_state=12345)\n",
    "params = {\n",
    "    'n_estimators': [300, 400, 500],\n",
    "    'max_depth'   : [3, 5],\n",
    "    'learning_rate': [0.05, 0.1]} \n",
    "model_adjuster(model, params, 'Градиентный бустинг')"
   ]
  },
  {
   "cell_type": "code",
   "execution_count": 31,
   "metadata": {},
   "outputs": [
    {
     "name": "stdout",
     "output_type": "stream",
     "text": [
      "CatBoost \n",
      "\n",
      "lag=24 | RMSE=29.16 | params={'iterations': 10, 'depth': 3}\n",
      "lag=168 | RMSE=24.78 | params={'iterations': 10, 'depth': 3}\n"
     ]
    }
   ],
   "source": [
    "print('CatBoost \\n')\n",
    "model = CatBoostRegressor(random_state = 12345, verbose=False) \n",
    "params = {'depth':range(1,6), \n",
    "          'iterations':[10, 100]} \n",
    "model_adjuster(model, params, 'CatBoost') "
   ]
  },
  {
   "cell_type": "code",
   "execution_count": 32,
   "metadata": {},
   "outputs": [],
   "source": [
    "result = pd.DataFrame(data={'Название модели':name_list, 'Число сдвигов':lags_list, 'RMSE':rmse_list})"
   ]
  },
  {
   "cell_type": "code",
   "execution_count": 42,
   "metadata": {},
   "outputs": [
    {
     "data": {
      "text/html": [
       "<div>\n",
       "<style scoped>\n",
       "    .dataframe tbody tr th:only-of-type {\n",
       "        vertical-align: middle;\n",
       "    }\n",
       "\n",
       "    .dataframe tbody tr th {\n",
       "        vertical-align: top;\n",
       "    }\n",
       "\n",
       "    .dataframe thead th {\n",
       "        text-align: right;\n",
       "    }\n",
       "</style>\n",
       "<table border=\"1\" class=\"dataframe\">\n",
       "  <thead>\n",
       "    <tr style=\"text-align: right;\">\n",
       "      <th></th>\n",
       "      <th>Название модели</th>\n",
       "      <th>Число сдвигов</th>\n",
       "      <th>RMSE</th>\n",
       "    </tr>\n",
       "  </thead>\n",
       "  <tbody>\n",
       "    <tr>\n",
       "      <th>1</th>\n",
       "      <td>Линейная регрессия</td>\n",
       "      <td>168</td>\n",
       "      <td>24.590154</td>\n",
       "    </tr>\n",
       "    <tr>\n",
       "      <th>7</th>\n",
       "      <td>CatBoost</td>\n",
       "      <td>168</td>\n",
       "      <td>24.776044</td>\n",
       "    </tr>\n",
       "    <tr>\n",
       "      <th>3</th>\n",
       "      <td>Случайный лес</td>\n",
       "      <td>168</td>\n",
       "      <td>25.172122</td>\n",
       "    </tr>\n",
       "    <tr>\n",
       "      <th>5</th>\n",
       "      <td>Градиентный бустинг</td>\n",
       "      <td>168</td>\n",
       "      <td>26.150769</td>\n",
       "    </tr>\n",
       "    <tr>\n",
       "      <th>6</th>\n",
       "      <td>CatBoost</td>\n",
       "      <td>24</td>\n",
       "      <td>29.161324</td>\n",
       "    </tr>\n",
       "    <tr>\n",
       "      <th>0</th>\n",
       "      <td>Линейная регрессия</td>\n",
       "      <td>24</td>\n",
       "      <td>29.246191</td>\n",
       "    </tr>\n",
       "    <tr>\n",
       "      <th>2</th>\n",
       "      <td>Случайный лес</td>\n",
       "      <td>24</td>\n",
       "      <td>29.609016</td>\n",
       "    </tr>\n",
       "    <tr>\n",
       "      <th>4</th>\n",
       "      <td>Градиентный бустинг</td>\n",
       "      <td>24</td>\n",
       "      <td>31.483234</td>\n",
       "    </tr>\n",
       "  </tbody>\n",
       "</table>\n",
       "</div>"
      ],
      "text/plain": [
       "       Название модели  Число сдвигов       RMSE\n",
       "1   Линейная регрессия            168  24.590154\n",
       "7             CatBoost            168  24.776044\n",
       "3        Случайный лес            168  25.172122\n",
       "5  Градиентный бустинг            168  26.150769\n",
       "6             CatBoost             24  29.161324\n",
       "0   Линейная регрессия             24  29.246191\n",
       "2        Случайный лес             24  29.609016\n",
       "4  Градиентный бустинг             24  31.483234"
      ]
     },
     "execution_count": 42,
     "metadata": {},
     "output_type": "execute_result"
    }
   ],
   "source": [
    "result.sort_values(by='RMSE', ascending=True)"
   ]
  },
  {
   "cell_type": "markdown",
   "metadata": {},
   "source": [
    "Лучший результат показала модель линейной регрессии с лагом 168 RMSE = 24.59"
   ]
  },
  {
   "cell_type": "markdown",
   "metadata": {},
   "source": [
    "## Тестирование"
   ]
  },
  {
   "cell_type": "code",
   "execution_count": 34,
   "metadata": {},
   "outputs": [
    {
     "name": "stdout",
     "output_type": "stream",
     "text": [
      "RMSE:  36.251397323092434\n"
     ]
    }
   ],
   "source": [
    "model = LinearRegression() \n",
    "\n",
    "train, test = train_test_split(df_168, shuffle=False, test_size=0.1)\n",
    "train = train.dropna()\n",
    "\n",
    "\n",
    "features_train = train.drop('num_orders', axis=1)\n",
    "target_train = train['num_orders']\n",
    "\n",
    "features_test = test.drop('num_orders', axis=1)\n",
    "target_test = test['num_orders']\n",
    "\n",
    "model.fit(features_train, target_train)\n",
    "predictions = model.predict(features_test)\n",
    "\n",
    "print('RMSE: ', mean_squared_error(predictions, target_test)**0.5)"
   ]
  },
  {
   "cell_type": "markdown",
   "metadata": {},
   "source": [
    "RMSE в пределах допустимого значения"
   ]
  },
  {
   "cell_type": "markdown",
   "metadata": {},
   "source": [
    "Построим предсказанный график"
   ]
  },
  {
   "cell_type": "code",
   "execution_count": 35,
   "metadata": {},
   "outputs": [
    {
     "data": {
      "image/png": "[encoded data removed]",
      "text/plain": [
       "<Figure size 1008x576 with 1 Axes>"
      ]
     },
     "metadata": {
      "needs_background": "light"
     },
     "output_type": "display_data"
    }
   ],
   "source": [
    "predictions_series = pd.Series(data=predictions, index=target_test.index)\n",
    "predictions_series.plot(figsize=(14, 8), label='Предсказание', alpha=1)\n",
    "target_test.plot(label='Реальность', color='red', alpha=0.7)\n",
    "plt.legend()\n",
    "plt.title('Зависимость реального и предсказанного числа вызовов от времени')\n",
    "plt.xlabel('Время')\n",
    "plt.ylabel('Число вызовов')\n",
    "plt.show()"
   ]
  },
  {
   "cell_type": "markdown",
   "metadata": {},
   "source": [
    "График показывает хорошее совпадение реального и предсказанного значения"
   ]
  },
  {
   "cell_type": "code",
   "execution_count": 39,
   "metadata": {},
   "outputs": [
    {
     "name": "stdout",
     "output_type": "stream",
     "text": [
      "Бейзлайн 24 ч: 57.30\n",
      "Бейзлайн 168 ч: 39.29\n"
     ]
    }
   ],
   "source": [
    "train, test = train_test_split(df_24.dropna(), shuffle=False, test_size=0.1)\n",
    "\n",
    "rmse_24  = mean_squared_error(test['num_orders'],\n",
    "                              test['lag_24'],  squared=False)\n",
    "\n",
    "print(f'Бейзлайн 24 ч: {rmse_24:.2f}')\n",
    "\n",
    "\n",
    "train, test = train_test_split(df_168.dropna(), shuffle=False, test_size=0.1)\n",
    "\n",
    "rmse_168 = mean_squared_error(test['num_orders'],\n",
    "                              test['lag_168'], squared=False)\n",
    "print(f'Бейзлайн 168 ч: {rmse_168:.2f}')\n"
   ]
  },
  {
   "cell_type": "markdown",
   "metadata": {},
   "source": [
    "Недельный сдвиг гораздо информативнее, чем суточный. Модели объективно лучше обоих бейзлайнов.Лучшая линейная регрессия с lag-168 даёт RMSE ≈ 24,59. Базовые бейзлайны уступают результату модели примерно на 35–40 %.\n",
    "\n"
   ]
  },
  {
   "cell_type": "markdown",
   "metadata": {},
   "source": [
    "## Вывод"
   ]
  },
  {
   "cell_type": "markdown",
   "metadata": {},
   "source": [
    "В ходе проекта были импортированы данные о колличестве вызовов такси в определённые даты. Данные были проанализированы и был произведён ресемплинг по одному часу как и просил заказчик. \n",
    "\n",
    "В ходе анализа обнаружена суточная и недельная сезонность, на основе этого были выбраны параметры и лаги.\n",
    "\n",
    "Были проанализированы несколько моделей, и выбрана модель линейной регрессии с лагом 168, которая дала наилучший результат. Метрика модели RMSE (24,59) удовлетворяет требованию заказчика (48).\n",
    "\n",
    "Результаты работы моделей оказались намного лучше базлайнов"
   ]
  }
 ],
 "metadata": {
  "ExecuteTimeLog": [
   {
    "duration": 1911,
    "start_time": "2025-04-16T13:28:50.170Z"
   },
   {
    "duration": 3639,
    "start_time": "2025-04-16T13:29:03.702Z"
   },
   {
    "duration": 81,
    "start_time": "2025-04-16T13:29:07.344Z"
   },
   {
    "duration": 38,
    "start_time": "2025-04-16T13:29:41.219Z"
   },
   {
    "duration": 16,
    "start_time": "2025-04-16T13:29:45.230Z"
   },
   {
    "duration": 21,
    "start_time": "2025-04-16T13:31:07.749Z"
   },
   {
    "duration": 18,
    "start_time": "2025-04-16T13:31:21.990Z"
   },
   {
    "duration": 11,
    "start_time": "2025-04-16T13:31:25.466Z"
   },
   {
    "duration": 6,
    "start_time": "2025-04-16T13:31:52.699Z"
   },
   {
    "duration": 49,
    "start_time": "2025-04-16T13:31:56.392Z"
   },
   {
    "duration": 4,
    "start_time": "2025-04-16T13:32:15.517Z"
   },
   {
    "duration": 14,
    "start_time": "2025-04-16T13:32:15.721Z"
   },
   {
    "duration": 46,
    "start_time": "2025-04-16T13:32:15.911Z"
   },
   {
    "duration": 10,
    "start_time": "2025-04-16T13:47:16.962Z"
   },
   {
    "duration": 10,
    "start_time": "2025-04-16T13:47:40.085Z"
   },
   {
    "duration": 10,
    "start_time": "2025-04-16T13:47:43.184Z"
   },
   {
    "duration": 10,
    "start_time": "2025-04-16T13:47:53.462Z"
   },
   {
    "duration": 173,
    "start_time": "2025-04-16T13:48:13.666Z"
   },
   {
    "duration": 30,
    "start_time": "2025-04-16T13:57:26.835Z"
   },
   {
    "duration": 3,
    "start_time": "2025-04-16T13:58:24.614Z"
   },
   {
    "duration": 95,
    "start_time": "2025-04-16T13:58:27.712Z"
   },
   {
    "duration": 10,
    "start_time": "2025-04-16T13:58:32.066Z"
   },
   {
    "duration": 34,
    "start_time": "2025-04-16T13:58:57.328Z"
   },
   {
    "duration": 4,
    "start_time": "2025-04-16T14:00:28.760Z"
   },
   {
    "duration": 124,
    "start_time": "2025-04-16T14:02:11.278Z"
   },
   {
    "duration": 16,
    "start_time": "2025-04-16T14:02:43.637Z"
   },
   {
    "duration": 12,
    "start_time": "2025-04-16T14:02:53.608Z"
   },
   {
    "duration": 121,
    "start_time": "2025-04-16T14:02:55.808Z"
   },
   {
    "duration": 112,
    "start_time": "2025-04-16T14:02:58.113Z"
   },
   {
    "duration": 12,
    "start_time": "2025-04-16T14:03:00.308Z"
   },
   {
    "duration": 141,
    "start_time": "2025-04-16T14:03:02.559Z"
   },
   {
    "duration": 562,
    "start_time": "2025-04-16T14:03:10.052Z"
   },
   {
    "duration": 426,
    "start_time": "2025-04-16T14:03:33.850Z"
   },
   {
    "duration": 16,
    "start_time": "2025-04-16T14:03:49.337Z"
   },
   {
    "duration": 15,
    "start_time": "2025-04-16T14:03:56.302Z"
   },
   {
    "duration": 1941,
    "start_time": "2025-04-16T14:04:10.454Z"
   },
   {
    "duration": 318,
    "start_time": "2025-04-16T14:05:02.375Z"
   },
   {
    "duration": 14,
    "start_time": "2025-04-16T14:05:14.801Z"
   },
   {
    "duration": 7,
    "start_time": "2025-04-16T14:05:14.983Z"
   },
   {
    "duration": 4,
    "start_time": "2025-04-16T14:05:15.235Z"
   },
   {
    "duration": 2648,
    "start_time": "2025-04-16T14:05:22.133Z"
   },
   {
    "duration": 1636,
    "start_time": "2025-04-16T14:05:24.783Z"
   },
   {
    "duration": 37,
    "start_time": "2025-04-16T14:05:26.420Z"
   },
   {
    "duration": 14,
    "start_time": "2025-04-16T14:05:26.458Z"
   },
   {
    "duration": 23,
    "start_time": "2025-04-16T14:05:26.474Z"
   },
   {
    "duration": 64,
    "start_time": "2025-04-16T14:05:26.499Z"
   },
   {
    "duration": 10,
    "start_time": "2025-04-16T14:05:26.565Z"
   },
   {
    "duration": 11,
    "start_time": "2025-04-16T14:05:26.577Z"
   },
   {
    "duration": 4,
    "start_time": "2025-04-16T14:05:26.590Z"
   },
   {
    "duration": 9,
    "start_time": "2025-04-16T14:05:26.596Z"
   },
   {
    "duration": 6,
    "start_time": "2025-04-16T14:05:26.607Z"
   },
   {
    "duration": 453,
    "start_time": "2025-04-16T14:05:26.615Z"
   },
   {
    "duration": 394,
    "start_time": "2025-04-16T14:05:35.571Z"
   },
   {
    "duration": 397,
    "start_time": "2025-04-16T14:05:42.088Z"
   },
   {
    "duration": 3518,
    "start_time": "2025-04-23T13:25:48.007Z"
   },
   {
    "duration": 1808,
    "start_time": "2025-04-23T13:25:51.527Z"
   },
   {
    "duration": 35,
    "start_time": "2025-04-23T13:25:53.336Z"
   },
   {
    "duration": 4,
    "start_time": "2025-04-23T13:25:53.374Z"
   },
   {
    "duration": 16,
    "start_time": "2025-04-23T13:25:53.379Z"
   },
   {
    "duration": 73,
    "start_time": "2025-04-23T13:25:53.397Z"
   },
   {
    "duration": 9,
    "start_time": "2025-04-23T13:25:53.472Z"
   },
   {
    "duration": 13,
    "start_time": "2025-04-23T13:25:53.483Z"
   },
   {
    "duration": 3,
    "start_time": "2025-04-23T13:25:53.504Z"
   },
   {
    "duration": 14,
    "start_time": "2025-04-23T13:25:53.509Z"
   },
   {
    "duration": 4,
    "start_time": "2025-04-23T13:25:53.525Z"
   },
   {
    "duration": 555,
    "start_time": "2025-04-23T13:25:53.530Z"
   },
   {
    "duration": 514,
    "start_time": "2025-04-23T13:28:02.985Z"
   },
   {
    "duration": 3491,
    "start_time": "2025-04-25T17:11:47.359Z"
   },
   {
    "duration": 1865,
    "start_time": "2025-04-25T17:11:50.852Z"
   },
   {
    "duration": 49,
    "start_time": "2025-04-25T17:11:52.718Z"
   },
   {
    "duration": 5,
    "start_time": "2025-04-25T17:11:52.769Z"
   },
   {
    "duration": 16,
    "start_time": "2025-04-25T17:11:52.775Z"
   },
   {
    "duration": 73,
    "start_time": "2025-04-25T17:11:52.792Z"
   },
   {
    "duration": 10,
    "start_time": "2025-04-25T17:11:52.867Z"
   },
   {
    "duration": 12,
    "start_time": "2025-04-25T17:11:52.879Z"
   },
   {
    "duration": 4,
    "start_time": "2025-04-25T17:11:52.893Z"
   },
   {
    "duration": 10,
    "start_time": "2025-04-25T17:11:52.899Z"
   },
   {
    "duration": 4,
    "start_time": "2025-04-25T17:11:52.910Z"
   },
   {
    "duration": 645,
    "start_time": "2025-04-25T17:11:52.916Z"
   },
   {
    "duration": 3453,
    "start_time": "2025-04-26T06:36:36.992Z"
   },
   {
    "duration": 1778,
    "start_time": "2025-04-26T06:36:40.448Z"
   },
   {
    "duration": 45,
    "start_time": "2025-04-26T06:36:42.228Z"
   },
   {
    "duration": 5,
    "start_time": "2025-04-26T06:36:42.275Z"
   },
   {
    "duration": 69,
    "start_time": "2025-04-26T06:36:42.282Z"
   },
   {
    "duration": 50,
    "start_time": "2025-04-26T06:36:42.353Z"
   },
   {
    "duration": 10,
    "start_time": "2025-04-26T06:36:42.406Z"
   },
   {
    "duration": 26,
    "start_time": "2025-04-26T06:36:42.418Z"
   },
   {
    "duration": 12,
    "start_time": "2025-04-26T06:36:42.446Z"
   },
   {
    "duration": 16,
    "start_time": "2025-04-26T06:36:42.460Z"
   },
   {
    "duration": 6,
    "start_time": "2025-04-26T06:36:42.478Z"
   },
   {
    "duration": 446,
    "start_time": "2025-04-26T06:36:42.486Z"
   },
   {
    "duration": 129,
    "start_time": "2025-04-26T06:37:09.518Z"
   },
   {
    "duration": 313,
    "start_time": "2025-04-26T06:44:27.074Z"
   },
   {
    "duration": 287,
    "start_time": "2025-04-26T06:44:43.877Z"
   },
   {
    "duration": 300,
    "start_time": "2025-04-26T06:44:50.710Z"
   },
   {
    "duration": 319,
    "start_time": "2025-04-26T06:45:45.500Z"
   },
   {
    "duration": 322,
    "start_time": "2025-04-26T06:46:00.548Z"
   },
   {
    "duration": 425,
    "start_time": "2025-04-26T06:46:40.830Z"
   },
   {
    "duration": 24,
    "start_time": "2025-04-26T06:50:05.651Z"
   },
   {
    "duration": 16,
    "start_time": "2025-04-26T06:50:09.072Z"
   },
   {
    "duration": 310,
    "start_time": "2025-04-26T06:50:51.415Z"
   },
   {
    "duration": 658,
    "start_time": "2025-04-26T06:51:36.154Z"
   },
   {
    "duration": 459,
    "start_time": "2025-04-26T06:51:37.382Z"
   },
   {
    "duration": 439,
    "start_time": "2025-04-26T06:52:00.087Z"
   },
   {
    "duration": 400,
    "start_time": "2025-04-26T06:52:05.656Z"
   },
   {
    "duration": 330,
    "start_time": "2025-04-26T06:52:09.460Z"
   },
   {
    "duration": 376,
    "start_time": "2025-04-26T06:52:16.965Z"
   },
   {
    "duration": 3,
    "start_time": "2025-04-26T06:53:38.339Z"
   },
   {
    "duration": 17,
    "start_time": "2025-04-26T06:54:19.638Z"
   },
   {
    "duration": 17,
    "start_time": "2025-04-26T06:54:23.637Z"
   },
   {
    "duration": 21,
    "start_time": "2025-04-26T06:54:27.868Z"
   },
   {
    "duration": 308,
    "start_time": "2025-04-26T06:55:06.034Z"
   },
   {
    "duration": 381,
    "start_time": "2025-04-26T06:55:28.759Z"
   },
   {
    "duration": 407,
    "start_time": "2025-04-26T06:55:53.364Z"
   },
   {
    "duration": 13,
    "start_time": "2025-04-26T06:57:00.950Z"
   },
   {
    "duration": 311,
    "start_time": "2025-04-26T06:58:02.215Z"
   },
   {
    "duration": 13,
    "start_time": "2025-04-26T07:02:29.468Z"
   },
   {
    "duration": 431,
    "start_time": "2025-04-26T07:02:37.464Z"
   },
   {
    "duration": 11,
    "start_time": "2025-04-26T07:04:26.414Z"
   },
   {
    "duration": 363,
    "start_time": "2025-04-26T07:05:11.188Z"
   },
   {
    "duration": 376,
    "start_time": "2025-04-26T07:05:25.959Z"
   },
   {
    "duration": 11,
    "start_time": "2025-04-26T07:06:22.513Z"
   },
   {
    "duration": 44,
    "start_time": "2025-04-26T07:06:29.658Z"
   },
   {
    "duration": 6,
    "start_time": "2025-04-26T07:06:40.916Z"
   },
   {
    "duration": 10,
    "start_time": "2025-04-26T07:06:49.468Z"
   },
   {
    "duration": 15,
    "start_time": "2025-04-26T07:06:52.954Z"
   },
   {
    "duration": 11,
    "start_time": "2025-04-26T07:08:52.807Z"
   },
   {
    "duration": 13,
    "start_time": "2025-04-26T07:10:11.458Z"
   },
   {
    "duration": 2634,
    "start_time": "2025-04-26T07:10:19.175Z"
   },
   {
    "duration": 1632,
    "start_time": "2025-04-26T07:10:21.811Z"
   },
   {
    "duration": 34,
    "start_time": "2025-04-26T07:10:23.445Z"
   },
   {
    "duration": 4,
    "start_time": "2025-04-26T07:10:23.481Z"
   },
   {
    "duration": 164,
    "start_time": "2025-04-26T07:10:23.487Z"
   },
   {
    "duration": 81,
    "start_time": "2025-04-26T07:10:23.654Z"
   },
   {
    "duration": 41,
    "start_time": "2025-04-26T07:10:23.737Z"
   },
   {
    "duration": 7,
    "start_time": "2025-04-26T07:10:23.780Z"
   },
   {
    "duration": 16,
    "start_time": "2025-04-26T07:10:23.789Z"
   },
   {
    "duration": 30,
    "start_time": "2025-04-26T07:10:23.807Z"
   },
   {
    "duration": 567,
    "start_time": "2025-04-26T07:10:23.838Z"
   },
   {
    "duration": 653,
    "start_time": "2025-04-26T07:10:24.407Z"
   },
   {
    "duration": 349,
    "start_time": "2025-04-26T07:10:25.061Z"
   },
   {
    "duration": 457,
    "start_time": "2025-04-26T07:10:25.412Z"
   },
   {
    "duration": 13,
    "start_time": "2025-04-26T07:10:25.871Z"
   },
   {
    "duration": 151,
    "start_time": "2025-04-26T07:10:25.885Z"
   },
   {
    "duration": 0,
    "start_time": "2025-04-26T07:10:26.038Z"
   },
   {
    "duration": 19,
    "start_time": "2025-04-26T07:10:58.246Z"
   },
   {
    "duration": 46,
    "start_time": "2025-04-26T07:11:04.968Z"
   },
   {
    "duration": 14,
    "start_time": "2025-04-26T07:12:05.752Z"
   },
   {
    "duration": 27,
    "start_time": "2025-04-26T07:12:09.462Z"
   },
   {
    "duration": 27,
    "start_time": "2025-04-26T07:13:40.987Z"
   },
   {
    "duration": 7,
    "start_time": "2025-04-26T07:14:52.751Z"
   },
   {
    "duration": 2557,
    "start_time": "2025-04-26T07:19:49.269Z"
   },
   {
    "duration": 1666,
    "start_time": "2025-04-26T07:19:51.828Z"
   },
   {
    "duration": 47,
    "start_time": "2025-04-26T07:19:53.496Z"
   },
   {
    "duration": 4,
    "start_time": "2025-04-26T07:19:53.545Z"
   },
   {
    "duration": 125,
    "start_time": "2025-04-26T07:19:53.551Z"
   },
   {
    "duration": 60,
    "start_time": "2025-04-26T07:19:53.678Z"
   },
   {
    "duration": 57,
    "start_time": "2025-04-26T07:19:53.740Z"
   },
   {
    "duration": 94,
    "start_time": "2025-04-26T07:19:53.799Z"
   },
   {
    "duration": 24,
    "start_time": "2025-04-26T07:19:53.895Z"
   },
   {
    "duration": 15,
    "start_time": "2025-04-26T07:19:53.921Z"
   },
   {
    "duration": 583,
    "start_time": "2025-04-26T07:19:53.938Z"
   },
   {
    "duration": 665,
    "start_time": "2025-04-26T07:19:54.523Z"
   },
   {
    "duration": 340,
    "start_time": "2025-04-26T07:19:55.190Z"
   },
   {
    "duration": 530,
    "start_time": "2025-04-26T07:19:55.532Z"
   },
   {
    "duration": 14,
    "start_time": "2025-04-26T07:19:56.064Z"
   },
   {
    "duration": 147,
    "start_time": "2025-04-26T07:19:56.080Z"
   },
   {
    "duration": 0,
    "start_time": "2025-04-26T07:19:56.229Z"
   },
   {
    "duration": 0,
    "start_time": "2025-04-26T07:19:56.231Z"
   },
   {
    "duration": 0,
    "start_time": "2025-04-26T07:19:56.232Z"
   },
   {
    "duration": 0,
    "start_time": "2025-04-26T07:19:56.234Z"
   },
   {
    "duration": 0,
    "start_time": "2025-04-26T07:19:56.235Z"
   },
   {
    "duration": 0,
    "start_time": "2025-04-26T07:19:56.237Z"
   },
   {
    "duration": 2571,
    "start_time": "2025-04-26T07:20:10.690Z"
   },
   {
    "duration": 1588,
    "start_time": "2025-04-26T07:20:13.264Z"
   },
   {
    "duration": 36,
    "start_time": "2025-04-26T07:20:14.854Z"
   },
   {
    "duration": 18,
    "start_time": "2025-04-26T07:20:14.891Z"
   },
   {
    "duration": 54,
    "start_time": "2025-04-26T07:20:14.911Z"
   },
   {
    "duration": 10,
    "start_time": "2025-04-26T07:20:14.967Z"
   },
   {
    "duration": 36,
    "start_time": "2025-04-26T07:20:14.979Z"
   },
   {
    "duration": 84,
    "start_time": "2025-04-26T07:20:15.017Z"
   },
   {
    "duration": 166,
    "start_time": "2025-04-26T07:20:15.102Z"
   },
   {
    "duration": 164,
    "start_time": "2025-04-26T07:20:15.270Z"
   },
   {
    "duration": 614,
    "start_time": "2025-04-26T07:20:15.435Z"
   },
   {
    "duration": 658,
    "start_time": "2025-04-26T07:20:16.050Z"
   },
   {
    "duration": 318,
    "start_time": "2025-04-26T07:20:16.710Z"
   },
   {
    "duration": 450,
    "start_time": "2025-04-26T07:20:17.031Z"
   },
   {
    "duration": 23,
    "start_time": "2025-04-26T07:20:17.482Z"
   },
   {
    "duration": 65,
    "start_time": "2025-04-26T07:20:17.508Z"
   },
   {
    "duration": 6,
    "start_time": "2025-04-26T07:20:17.576Z"
   },
   {
    "duration": 275,
    "start_time": "2025-04-26T07:20:17.585Z"
   },
   {
    "duration": 0,
    "start_time": "2025-04-26T07:20:17.862Z"
   },
   {
    "duration": 0,
    "start_time": "2025-04-26T07:20:17.863Z"
   },
   {
    "duration": 0,
    "start_time": "2025-04-26T07:20:17.864Z"
   },
   {
    "duration": 0,
    "start_time": "2025-04-26T07:20:17.865Z"
   },
   {
    "duration": 2528,
    "start_time": "2025-04-26T07:20:44.931Z"
   },
   {
    "duration": 1562,
    "start_time": "2025-04-26T07:20:47.461Z"
   },
   {
    "duration": 35,
    "start_time": "2025-04-26T07:20:49.025Z"
   },
   {
    "duration": 4,
    "start_time": "2025-04-26T07:20:49.062Z"
   },
   {
    "duration": 116,
    "start_time": "2025-04-26T07:20:49.068Z"
   },
   {
    "duration": 117,
    "start_time": "2025-04-26T07:20:49.185Z"
   },
   {
    "duration": 14,
    "start_time": "2025-04-26T07:20:49.304Z"
   },
   {
    "duration": 88,
    "start_time": "2025-04-26T07:20:49.320Z"
   },
   {
    "duration": 11,
    "start_time": "2025-04-26T07:20:49.410Z"
   },
   {
    "duration": 5,
    "start_time": "2025-04-26T07:20:49.423Z"
   },
   {
    "duration": 616,
    "start_time": "2025-04-26T07:20:49.429Z"
   },
   {
    "duration": 651,
    "start_time": "2025-04-26T07:20:50.047Z"
   },
   {
    "duration": 338,
    "start_time": "2025-04-26T07:20:50.700Z"
   },
   {
    "duration": 429,
    "start_time": "2025-04-26T07:20:51.040Z"
   },
   {
    "duration": 13,
    "start_time": "2025-04-26T07:20:51.471Z"
   },
   {
    "duration": 66,
    "start_time": "2025-04-26T07:20:51.486Z"
   },
   {
    "duration": 6,
    "start_time": "2025-04-26T07:20:51.554Z"
   },
   {
    "duration": 293,
    "start_time": "2025-04-26T07:20:51.562Z"
   },
   {
    "duration": 0,
    "start_time": "2025-04-26T07:20:51.857Z"
   },
   {
    "duration": 0,
    "start_time": "2025-04-26T07:20:51.858Z"
   },
   {
    "duration": 0,
    "start_time": "2025-04-26T07:20:51.859Z"
   },
   {
    "duration": 0,
    "start_time": "2025-04-26T07:20:51.860Z"
   },
   {
    "duration": 5,
    "start_time": "2025-04-26T07:21:41.031Z"
   },
   {
    "duration": 2573,
    "start_time": "2025-04-26T07:21:50.871Z"
   },
   {
    "duration": 1590,
    "start_time": "2025-04-26T07:21:53.447Z"
   },
   {
    "duration": 35,
    "start_time": "2025-04-26T07:21:55.038Z"
   },
   {
    "duration": 4,
    "start_time": "2025-04-26T07:21:55.074Z"
   },
   {
    "duration": 61,
    "start_time": "2025-04-26T07:21:55.080Z"
   },
   {
    "duration": 11,
    "start_time": "2025-04-26T07:21:55.142Z"
   },
   {
    "duration": 51,
    "start_time": "2025-04-26T07:21:55.155Z"
   },
   {
    "duration": 92,
    "start_time": "2025-04-26T07:21:55.208Z"
   },
   {
    "duration": 78,
    "start_time": "2025-04-26T07:21:55.302Z"
   },
   {
    "duration": 56,
    "start_time": "2025-04-26T07:21:55.381Z"
   },
   {
    "duration": 618,
    "start_time": "2025-04-26T07:21:55.438Z"
   },
   {
    "duration": 649,
    "start_time": "2025-04-26T07:21:56.058Z"
   },
   {
    "duration": 318,
    "start_time": "2025-04-26T07:21:56.708Z"
   },
   {
    "duration": 447,
    "start_time": "2025-04-26T07:21:57.028Z"
   },
   {
    "duration": 12,
    "start_time": "2025-04-26T07:21:57.477Z"
   },
   {
    "duration": 61,
    "start_time": "2025-04-26T07:21:57.503Z"
   },
   {
    "duration": 7,
    "start_time": "2025-04-26T07:21:57.566Z"
   },
   {
    "duration": 39523,
    "start_time": "2025-04-26T07:21:57.574Z"
   },
   {
    "duration": 2658,
    "start_time": "2025-04-26T07:27:44.132Z"
   },
   {
    "duration": 1678,
    "start_time": "2025-04-26T07:27:46.792Z"
   },
   {
    "duration": 43,
    "start_time": "2025-04-26T07:27:48.472Z"
   },
   {
    "duration": 4,
    "start_time": "2025-04-26T07:27:48.517Z"
   },
   {
    "duration": 50,
    "start_time": "2025-04-26T07:27:48.523Z"
   },
   {
    "duration": 9,
    "start_time": "2025-04-26T07:27:48.574Z"
   },
   {
    "duration": 26,
    "start_time": "2025-04-26T07:27:48.585Z"
   },
   {
    "duration": 4,
    "start_time": "2025-04-26T07:27:48.613Z"
   },
   {
    "duration": 19,
    "start_time": "2025-04-26T07:27:48.618Z"
   },
   {
    "duration": 4,
    "start_time": "2025-04-26T07:27:48.640Z"
   },
   {
    "duration": 588,
    "start_time": "2025-04-26T07:27:48.645Z"
   },
   {
    "duration": 622,
    "start_time": "2025-04-26T07:27:49.235Z"
   },
   {
    "duration": 333,
    "start_time": "2025-04-26T07:27:49.858Z"
   },
   {
    "duration": 397,
    "start_time": "2025-04-26T07:27:50.192Z"
   },
   {
    "duration": 18,
    "start_time": "2025-04-26T07:27:50.590Z"
   },
   {
    "duration": 56,
    "start_time": "2025-04-26T07:27:50.610Z"
   },
   {
    "duration": 7,
    "start_time": "2025-04-26T07:27:50.668Z"
   },
   {
    "duration": 39469,
    "start_time": "2025-04-26T07:27:50.677Z"
   },
   {
    "duration": 2649,
    "start_time": "2025-04-26T07:28:56.911Z"
   },
   {
    "duration": 1598,
    "start_time": "2025-04-26T07:28:59.563Z"
   },
   {
    "duration": 35,
    "start_time": "2025-04-26T07:29:01.163Z"
   },
   {
    "duration": 120,
    "start_time": "2025-04-26T07:29:01.200Z"
   },
   {
    "duration": 126,
    "start_time": "2025-04-26T07:29:01.322Z"
   },
   {
    "duration": 51,
    "start_time": "2025-04-26T07:29:01.449Z"
   },
   {
    "duration": 36,
    "start_time": "2025-04-26T07:29:01.502Z"
   },
   {
    "duration": 17,
    "start_time": "2025-04-26T07:29:01.540Z"
   },
   {
    "duration": 187,
    "start_time": "2025-04-26T07:29:01.559Z"
   },
   {
    "duration": 29,
    "start_time": "2025-04-26T07:29:01.748Z"
   },
   {
    "duration": 662,
    "start_time": "2025-04-26T07:29:01.779Z"
   },
   {
    "duration": 657,
    "start_time": "2025-04-26T07:29:02.442Z"
   },
   {
    "duration": 320,
    "start_time": "2025-04-26T07:29:03.103Z"
   },
   {
    "duration": 451,
    "start_time": "2025-04-26T07:29:03.426Z"
   },
   {
    "duration": 12,
    "start_time": "2025-04-26T07:29:03.879Z"
   },
   {
    "duration": 58,
    "start_time": "2025-04-26T07:29:03.904Z"
   },
   {
    "duration": 6,
    "start_time": "2025-04-26T07:29:03.963Z"
   },
   {
    "duration": 39204,
    "start_time": "2025-04-26T07:29:03.971Z"
   },
   {
    "duration": 2550,
    "start_time": "2025-04-26T07:30:47.153Z"
   },
   {
    "duration": 1585,
    "start_time": "2025-04-26T07:30:49.706Z"
   },
   {
    "duration": 34,
    "start_time": "2025-04-26T07:30:51.293Z"
   },
   {
    "duration": 113,
    "start_time": "2025-04-26T07:30:51.329Z"
   },
   {
    "duration": 51,
    "start_time": "2025-04-26T07:30:51.444Z"
   },
   {
    "duration": 9,
    "start_time": "2025-04-26T07:30:51.496Z"
   },
   {
    "duration": 39,
    "start_time": "2025-04-26T07:30:51.506Z"
   },
   {
    "duration": 23,
    "start_time": "2025-04-26T07:30:51.546Z"
   },
   {
    "duration": 39,
    "start_time": "2025-04-26T07:30:51.570Z"
   },
   {
    "duration": 146,
    "start_time": "2025-04-26T07:30:51.611Z"
   },
   {
    "duration": 579,
    "start_time": "2025-04-26T07:30:51.758Z"
   },
   {
    "duration": 624,
    "start_time": "2025-04-26T07:30:52.339Z"
   },
   {
    "duration": 326,
    "start_time": "2025-04-26T07:30:52.964Z"
   },
   {
    "duration": 397,
    "start_time": "2025-04-26T07:30:53.292Z"
   },
   {
    "duration": 25,
    "start_time": "2025-04-26T07:30:53.691Z"
   },
   {
    "duration": 101,
    "start_time": "2025-04-26T07:30:53.718Z"
   },
   {
    "duration": 6,
    "start_time": "2025-04-26T07:30:53.821Z"
   },
   {
    "duration": 39358,
    "start_time": "2025-04-26T07:30:53.828Z"
   },
   {
    "duration": 690701,
    "start_time": "2025-04-26T07:31:33.188Z"
   },
   {
    "duration": 125836,
    "start_time": "2025-04-26T07:43:03.891Z"
   },
   {
    "duration": 5,
    "start_time": "2025-04-26T07:45:09.729Z"
   },
   {
    "duration": 89,
    "start_time": "2025-04-26T07:45:09.736Z"
   },
   {
    "duration": 9,
    "start_time": "2025-04-26T07:46:12.985Z"
   },
   {
    "duration": 80,
    "start_time": "2025-04-26T07:48:18.602Z"
   },
   {
    "duration": 13339,
    "start_time": "2025-04-26T07:48:23.762Z"
   },
   {
    "duration": 303,
    "start_time": "2025-04-26T07:48:52.256Z"
   },
   {
    "duration": 109,
    "start_time": "2025-04-26T07:55:42.960Z"
   },
   {
    "duration": 104,
    "start_time": "2025-04-26T07:57:17.098Z"
   },
   {
    "duration": 319,
    "start_time": "2025-04-26T08:00:29.178Z"
   },
   {
    "duration": 302,
    "start_time": "2025-04-26T08:00:34.318Z"
   },
   {
    "duration": 391,
    "start_time": "2025-04-26T08:00:43.051Z"
   },
   {
    "duration": 296,
    "start_time": "2025-04-26T08:00:56.986Z"
   },
   {
    "duration": 310,
    "start_time": "2025-04-26T08:01:10.374Z"
   },
   {
    "duration": 334,
    "start_time": "2025-04-26T08:02:28.009Z"
   },
   {
    "duration": 3125,
    "start_time": "2025-04-26T14:53:28.546Z"
   },
   {
    "duration": 3617,
    "start_time": "2025-04-26T14:53:31.673Z"
   },
   {
    "duration": 73,
    "start_time": "2025-04-26T14:53:35.292Z"
   },
   {
    "duration": 4,
    "start_time": "2025-04-26T14:53:35.366Z"
   },
   {
    "duration": 48,
    "start_time": "2025-04-26T14:53:35.372Z"
   },
   {
    "duration": 17,
    "start_time": "2025-04-26T14:53:35.421Z"
   },
   {
    "duration": 13,
    "start_time": "2025-04-26T14:53:35.440Z"
   },
   {
    "duration": 3,
    "start_time": "2025-04-26T14:53:35.454Z"
   },
   {
    "duration": 24,
    "start_time": "2025-04-26T14:53:35.459Z"
   },
   {
    "duration": 4,
    "start_time": "2025-04-26T14:53:35.484Z"
   },
   {
    "duration": 588,
    "start_time": "2025-04-26T14:53:35.489Z"
   },
   {
    "duration": 606,
    "start_time": "2025-04-26T14:53:36.080Z"
   },
   {
    "duration": 347,
    "start_time": "2025-04-26T14:53:36.688Z"
   },
   {
    "duration": 372,
    "start_time": "2025-04-26T14:53:37.038Z"
   },
   {
    "duration": 12,
    "start_time": "2025-04-26T14:53:37.411Z"
   },
   {
    "duration": 50,
    "start_time": "2025-04-26T14:53:37.436Z"
   },
   {
    "duration": 5,
    "start_time": "2025-04-26T14:53:37.488Z"
   },
   {
    "duration": 35551,
    "start_time": "2025-04-26T14:53:37.495Z"
   },
   {
    "duration": 627653,
    "start_time": "2025-04-26T14:54:13.048Z"
   },
   {
    "duration": 113181,
    "start_time": "2025-04-26T15:04:40.703Z"
   },
   {
    "duration": 3,
    "start_time": "2025-04-26T15:06:33.886Z"
   },
   {
    "duration": 68,
    "start_time": "2025-04-26T15:06:33.891Z"
   },
   {
    "duration": 12241,
    "start_time": "2025-04-26T15:06:33.961Z"
   },
   {
    "duration": 289,
    "start_time": "2025-04-26T15:06:46.204Z"
   },
   {
    "duration": 1709,
    "start_time": "2025-04-26T18:41:56.490Z"
   },
   {
    "duration": 0,
    "start_time": "2025-04-26T18:41:58.201Z"
   },
   {
    "duration": 0,
    "start_time": "2025-04-26T18:41:58.202Z"
   },
   {
    "duration": 0,
    "start_time": "2025-04-26T18:41:58.203Z"
   },
   {
    "duration": 9,
    "start_time": "2025-04-26T18:41:58.597Z"
   },
   {
    "duration": 13,
    "start_time": "2025-04-26T18:41:58.779Z"
   },
   {
    "duration": 8,
    "start_time": "2025-04-26T18:41:58.949Z"
   },
   {
    "duration": 8,
    "start_time": "2025-04-26T18:41:59.127Z"
   },
   {
    "duration": 5,
    "start_time": "2025-04-26T18:42:17.338Z"
   },
   {
    "duration": 50,
    "start_time": "2025-04-26T18:42:18.727Z"
   },
   {
    "duration": 4,
    "start_time": "2025-04-26T18:42:19.129Z"
   },
   {
    "duration": 46,
    "start_time": "2025-04-26T18:42:20.009Z"
   },
   {
    "duration": 11,
    "start_time": "2025-04-26T18:42:21.080Z"
   },
   {
    "duration": 13,
    "start_time": "2025-04-26T18:42:21.654Z"
   },
   {
    "duration": 3,
    "start_time": "2025-04-26T18:42:22.215Z"
   },
   {
    "duration": 15,
    "start_time": "2025-04-26T18:42:22.560Z"
   },
   {
    "duration": 11,
    "start_time": "2025-04-26T18:42:24.275Z"
   },
   {
    "duration": 518,
    "start_time": "2025-04-26T18:42:25.001Z"
   },
   {
    "duration": 631,
    "start_time": "2025-04-26T18:42:35.031Z"
   },
   {
    "duration": 357,
    "start_time": "2025-04-26T18:42:36.431Z"
   },
   {
    "duration": 546,
    "start_time": "2025-04-26T18:42:42.410Z"
   },
   {
    "duration": 60,
    "start_time": "2025-04-26T22:51:36.484Z"
   },
   {
    "duration": 11,
    "start_time": "2025-04-27T01:41:41.084Z"
   },
   {
    "duration": 1774,
    "start_time": "2025-04-27T01:41:45.657Z"
   },
   {
    "duration": 86,
    "start_time": "2025-04-27T01:41:47.433Z"
   },
   {
    "duration": 4,
    "start_time": "2025-04-27T01:41:47.521Z"
   },
   {
    "duration": 85,
    "start_time": "2025-04-27T01:41:47.528Z"
   },
   {
    "duration": 10,
    "start_time": "2025-04-27T01:41:47.748Z"
   },
   {
    "duration": 10,
    "start_time": "2025-04-27T01:41:47.908Z"
   },
   {
    "duration": 4,
    "start_time": "2025-04-27T01:41:48.084Z"
   },
   {
    "duration": 10,
    "start_time": "2025-04-27T01:41:48.271Z"
   },
   {
    "duration": 4,
    "start_time": "2025-04-27T01:41:48.775Z"
   },
   {
    "duration": 502,
    "start_time": "2025-04-27T01:41:48.932Z"
   },
   {
    "duration": 642,
    "start_time": "2025-04-27T01:41:49.462Z"
   },
   {
    "duration": 312,
    "start_time": "2025-04-27T01:41:50.202Z"
   },
   {
    "duration": 510,
    "start_time": "2025-04-27T01:41:51.936Z"
   },
   {
    "duration": 450,
    "start_time": "2025-04-27T01:42:12.885Z"
   },
   {
    "duration": 106,
    "start_time": "2025-04-27T01:46:04.237Z"
   },
   {
    "duration": 11,
    "start_time": "2025-04-27T01:55:21.595Z"
   },
   {
    "duration": 103,
    "start_time": "2025-04-27T01:55:58.467Z"
   },
   {
    "duration": 10,
    "start_time": "2025-04-27T01:57:35.533Z"
   },
   {
    "duration": 4,
    "start_time": "2025-04-27T02:01:36.569Z"
   },
   {
    "duration": 83,
    "start_time": "2025-04-27T02:01:47.062Z"
   },
   {
    "duration": 17,
    "start_time": "2025-04-27T02:03:26.382Z"
   },
   {
    "duration": 16,
    "start_time": "2025-04-27T02:04:13.995Z"
   },
   {
    "duration": 13,
    "start_time": "2025-04-27T02:04:19.202Z"
   },
   {
    "duration": 12,
    "start_time": "2025-04-27T02:04:31.210Z"
   },
   {
    "duration": 14,
    "start_time": "2025-04-27T02:08:38.271Z"
   },
   {
    "duration": 6,
    "start_time": "2025-04-27T02:15:44.560Z"
   },
   {
    "duration": 6,
    "start_time": "2025-04-27T02:17:31.676Z"
   },
   {
    "duration": 6,
    "start_time": "2025-04-27T02:17:43.495Z"
   },
   {
    "duration": 8,
    "start_time": "2025-04-27T02:28:17.402Z"
   },
   {
    "duration": 28,
    "start_time": "2025-04-27T02:28:49.934Z"
   },
   {
    "duration": 21,
    "start_time": "2025-04-27T02:29:30.722Z"
   },
   {
    "duration": 25,
    "start_time": "2025-04-27T02:29:34.917Z"
   },
   {
    "duration": 24,
    "start_time": "2025-04-27T02:29:56.602Z"
   },
   {
    "duration": 15,
    "start_time": "2025-04-27T02:30:57.111Z"
   },
   {
    "duration": 6,
    "start_time": "2025-04-27T02:30:58.395Z"
   },
   {
    "duration": 3832,
    "start_time": "2025-04-27T02:31:00.667Z"
   },
   {
    "duration": 63,
    "start_time": "2025-04-27T02:31:16.799Z"
   },
   {
    "duration": 20,
    "start_time": "2025-04-27T02:34:09.896Z"
   },
   {
    "duration": 2968,
    "start_time": "2025-04-27T02:36:24.396Z"
   },
   {
    "duration": 29,
    "start_time": "2025-04-27T02:38:35.552Z"
   },
   {
    "duration": 3044,
    "start_time": "2025-04-27T02:42:09.058Z"
   },
   {
    "duration": 21,
    "start_time": "2025-04-27T02:42:23.863Z"
   },
   {
    "duration": 5,
    "start_time": "2025-04-27T02:42:24.309Z"
   },
   {
    "duration": 3168,
    "start_time": "2025-04-27T02:44:12.128Z"
   },
   {
    "duration": 70,
    "start_time": "2025-04-27T02:54:30.627Z"
   },
   {
    "duration": 71,
    "start_time": "2025-04-27T02:54:39.829Z"
   },
   {
    "duration": 94,
    "start_time": "2025-04-27T02:55:08.198Z"
   },
   {
    "duration": 35,
    "start_time": "2025-04-27T02:56:06.201Z"
   },
   {
    "duration": 68,
    "start_time": "2025-04-27T02:56:16.780Z"
   },
   {
    "duration": 68,
    "start_time": "2025-04-27T02:56:20.120Z"
   },
   {
    "duration": 31,
    "start_time": "2025-04-27T02:56:23.020Z"
   },
   {
    "duration": 34,
    "start_time": "2025-04-27T02:57:18.913Z"
   },
   {
    "duration": 68,
    "start_time": "2025-04-27T02:57:39.942Z"
   },
   {
    "duration": 4824,
    "start_time": "2025-04-27T02:57:41.630Z"
   },
   {
    "duration": 1687,
    "start_time": "2025-04-27T02:57:49.238Z"
   },
   {
    "duration": 37,
    "start_time": "2025-04-27T02:57:50.927Z"
   },
   {
    "duration": 4,
    "start_time": "2025-04-27T02:57:50.966Z"
   },
   {
    "duration": 63,
    "start_time": "2025-04-27T02:57:50.971Z"
   },
   {
    "duration": 9,
    "start_time": "2025-04-27T02:57:51.036Z"
   },
   {
    "duration": 10,
    "start_time": "2025-04-27T02:57:51.047Z"
   },
   {
    "duration": 3,
    "start_time": "2025-04-27T02:57:51.059Z"
   },
   {
    "duration": 49,
    "start_time": "2025-04-27T02:57:51.063Z"
   },
   {
    "duration": 5,
    "start_time": "2025-04-27T02:57:51.113Z"
   },
   {
    "duration": 509,
    "start_time": "2025-04-27T02:57:51.120Z"
   },
   {
    "duration": 643,
    "start_time": "2025-04-27T02:57:51.630Z"
   },
   {
    "duration": 340,
    "start_time": "2025-04-27T02:57:52.275Z"
   },
   {
    "duration": 569,
    "start_time": "2025-04-27T02:57:52.616Z"
   },
   {
    "duration": 24,
    "start_time": "2025-04-27T02:57:53.187Z"
   },
   {
    "duration": 20,
    "start_time": "2025-04-27T02:57:53.212Z"
   },
   {
    "duration": 5,
    "start_time": "2025-04-27T02:57:53.234Z"
   },
   {
    "duration": 94,
    "start_time": "2025-04-27T02:57:53.241Z"
   },
   {
    "duration": 3813,
    "start_time": "2025-04-27T02:57:53.337Z"
   },
   {
    "duration": 57035,
    "start_time": "2025-04-27T02:57:57.152Z"
   },
   {
    "duration": 70378,
    "start_time": "2025-04-27T02:58:54.189Z"
   },
   {
    "duration": 3,
    "start_time": "2025-04-27T03:00:04.569Z"
   },
   {
    "duration": 44,
    "start_time": "2025-04-27T03:00:04.574Z"
   },
   {
    "duration": 268,
    "start_time": "2025-04-27T03:00:04.620Z"
   },
   {
    "duration": 0,
    "start_time": "2025-04-27T03:00:04.890Z"
   },
   {
    "duration": 14,
    "start_time": "2025-04-27T03:01:13.114Z"
   },
   {
    "duration": 320,
    "start_time": "2025-04-27T03:01:18.110Z"
   },
   {
    "duration": 119,
    "start_time": "2025-04-27T03:02:10.160Z"
   },
   {
    "duration": 107,
    "start_time": "2025-04-27T03:02:21.002Z"
   },
   {
    "duration": 16,
    "start_time": "2025-04-27T03:02:27.596Z"
   },
   {
    "duration": 600,
    "start_time": "2025-04-27T03:02:45.458Z"
   },
   {
    "duration": 307,
    "start_time": "2025-04-27T03:02:48.052Z"
   },
   {
    "duration": 15,
    "start_time": "2025-04-27T03:03:10.427Z"
   },
   {
    "duration": 294,
    "start_time": "2025-04-27T03:03:11.860Z"
   },
   {
    "duration": 22,
    "start_time": "2025-04-27T03:05:39.603Z"
   },
   {
    "duration": 19,
    "start_time": "2025-04-27T03:05:50.979Z"
   },
   {
    "duration": 12,
    "start_time": "2025-04-27T03:07:17.853Z"
   },
   {
    "duration": 13,
    "start_time": "2025-04-27T03:07:45.807Z"
   },
   {
    "duration": 47,
    "start_time": "2025-04-27T10:33:01.303Z"
   },
   {
    "duration": 1780,
    "start_time": "2025-04-27T10:33:06.119Z"
   },
   {
    "duration": 34,
    "start_time": "2025-04-27T10:33:07.901Z"
   },
   {
    "duration": 5,
    "start_time": "2025-04-27T10:33:07.936Z"
   },
   {
    "duration": 51,
    "start_time": "2025-04-27T10:33:07.946Z"
   },
   {
    "duration": 9,
    "start_time": "2025-04-27T10:33:07.998Z"
   },
   {
    "duration": 31,
    "start_time": "2025-04-27T10:33:08.009Z"
   },
   {
    "duration": 4,
    "start_time": "2025-04-27T10:33:08.042Z"
   },
   {
    "duration": 17,
    "start_time": "2025-04-27T10:33:08.048Z"
   },
   {
    "duration": 3,
    "start_time": "2025-04-27T10:33:08.067Z"
   },
   {
    "duration": 555,
    "start_time": "2025-04-27T10:33:08.073Z"
   },
   {
    "duration": 601,
    "start_time": "2025-04-27T10:33:08.630Z"
   },
   {
    "duration": 306,
    "start_time": "2025-04-27T10:33:09.233Z"
   },
   {
    "duration": 552,
    "start_time": "2025-04-27T10:33:09.541Z"
   },
   {
    "duration": 10,
    "start_time": "2025-04-27T10:33:10.095Z"
   },
   {
    "duration": 19,
    "start_time": "2025-04-27T10:33:10.475Z"
   },
   {
    "duration": 5,
    "start_time": "2025-04-27T10:33:13.179Z"
   },
   {
    "duration": 11,
    "start_time": "2025-04-27T10:33:15.087Z"
   },
   {
    "duration": 60,
    "start_time": "2025-04-27T10:33:18.652Z"
   },
   {
    "duration": 12,
    "start_time": "2025-04-27T10:33:34.829Z"
   },
   {
    "duration": 2917,
    "start_time": "2025-04-27T10:37:42.614Z"
   },
   {
    "duration": 2854,
    "start_time": "2025-04-27T10:38:00.122Z"
   },
   {
    "duration": 3035,
    "start_time": "2025-04-27T10:39:17.586Z"
   },
   {
    "duration": 74,
    "start_time": "2025-04-27T10:41:46.335Z"
   },
   {
    "duration": 7,
    "start_time": "2025-04-27T10:41:58.843Z"
   },
   {
    "duration": 68,
    "start_time": "2025-04-27T10:42:04.333Z"
   },
   {
    "duration": 3148,
    "start_time": "2025-04-27T10:42:59.169Z"
   },
   {
    "duration": 79,
    "start_time": "2025-04-27T10:43:21.485Z"
   },
   {
    "duration": 38,
    "start_time": "2025-04-27T10:43:23.896Z"
   },
   {
    "duration": 3153,
    "start_time": "2025-04-27T10:43:36.232Z"
   },
   {
    "duration": 3000,
    "start_time": "2025-04-27T10:45:05.662Z"
   },
   {
    "duration": 14,
    "start_time": "2025-04-27T10:46:07.453Z"
   },
   {
    "duration": 1446,
    "start_time": "2025-04-27T10:47:01.654Z"
   },
   {
    "duration": 34,
    "start_time": "2025-04-27T10:47:03.102Z"
   },
   {
    "duration": 21,
    "start_time": "2025-04-27T10:47:03.138Z"
   },
   {
    "duration": 65,
    "start_time": "2025-04-27T10:47:03.160Z"
   },
   {
    "duration": 13,
    "start_time": "2025-04-27T10:47:03.227Z"
   },
   {
    "duration": 25,
    "start_time": "2025-04-27T10:47:03.241Z"
   },
   {
    "duration": 26,
    "start_time": "2025-04-27T10:47:03.267Z"
   },
   {
    "duration": 48,
    "start_time": "2025-04-27T10:47:03.295Z"
   },
   {
    "duration": 6,
    "start_time": "2025-04-27T10:47:03.345Z"
   },
   {
    "duration": 463,
    "start_time": "2025-04-27T10:47:03.352Z"
   },
   {
    "duration": 618,
    "start_time": "2025-04-27T10:47:03.817Z"
   },
   {
    "duration": 308,
    "start_time": "2025-04-27T10:47:04.436Z"
   },
   {
    "duration": 567,
    "start_time": "2025-04-27T10:47:04.746Z"
   },
   {
    "duration": 24,
    "start_time": "2025-04-27T10:47:05.315Z"
   },
   {
    "duration": 45,
    "start_time": "2025-04-27T10:47:05.341Z"
   },
   {
    "duration": 5,
    "start_time": "2025-04-27T10:47:05.387Z"
   },
   {
    "duration": 39,
    "start_time": "2025-04-27T10:47:05.394Z"
   },
   {
    "duration": 29,
    "start_time": "2025-04-27T10:47:05.434Z"
   },
   {
    "duration": 160,
    "start_time": "2025-04-27T10:47:05.464Z"
   },
   {
    "duration": 0,
    "start_time": "2025-04-27T10:47:05.626Z"
   },
   {
    "duration": 0,
    "start_time": "2025-04-27T10:47:05.628Z"
   },
   {
    "duration": 0,
    "start_time": "2025-04-27T10:47:05.639Z"
   },
   {
    "duration": 0,
    "start_time": "2025-04-27T10:47:05.640Z"
   },
   {
    "duration": 0,
    "start_time": "2025-04-27T10:47:05.642Z"
   },
   {
    "duration": 0,
    "start_time": "2025-04-27T10:47:05.643Z"
   },
   {
    "duration": 0,
    "start_time": "2025-04-27T10:47:05.644Z"
   },
   {
    "duration": 0,
    "start_time": "2025-04-27T10:47:05.645Z"
   },
   {
    "duration": 6,
    "start_time": "2025-04-27T10:53:02.271Z"
   },
   {
    "duration": 1438,
    "start_time": "2025-04-27T10:53:32.642Z"
   },
   {
    "duration": 33,
    "start_time": "2025-04-27T10:53:34.082Z"
   },
   {
    "duration": 4,
    "start_time": "2025-04-27T10:53:34.117Z"
   },
   {
    "duration": 62,
    "start_time": "2025-04-27T10:53:34.122Z"
   },
   {
    "duration": 9,
    "start_time": "2025-04-27T10:53:34.186Z"
   },
   {
    "duration": 36,
    "start_time": "2025-04-27T10:53:34.196Z"
   },
   {
    "duration": 7,
    "start_time": "2025-04-27T10:53:34.234Z"
   },
   {
    "duration": 15,
    "start_time": "2025-04-27T10:53:34.242Z"
   },
   {
    "duration": 4,
    "start_time": "2025-04-27T10:53:34.259Z"
   },
   {
    "duration": 439,
    "start_time": "2025-04-27T10:53:34.265Z"
   },
   {
    "duration": 601,
    "start_time": "2025-04-27T10:53:34.706Z"
   },
   {
    "duration": 323,
    "start_time": "2025-04-27T10:53:35.309Z"
   },
   {
    "duration": 535,
    "start_time": "2025-04-27T10:53:35.633Z"
   },
   {
    "duration": 12,
    "start_time": "2025-04-27T10:53:36.170Z"
   },
   {
    "duration": 23,
    "start_time": "2025-04-27T10:53:36.183Z"
   },
   {
    "duration": 22,
    "start_time": "2025-04-27T10:53:36.208Z"
   },
   {
    "duration": 68,
    "start_time": "2025-04-27T10:53:36.231Z"
   },
   {
    "duration": 586,
    "start_time": "2025-04-27T10:53:36.301Z"
   },
   {
    "duration": 14902,
    "start_time": "2025-04-27T10:53:36.888Z"
   },
   {
    "duration": 14193,
    "start_time": "2025-04-27T10:53:51.793Z"
   },
   {
    "duration": 4,
    "start_time": "2025-04-27T10:54:05.988Z"
   },
   {
    "duration": 70,
    "start_time": "2025-04-27T10:54:05.994Z"
   },
   {
    "duration": 14,
    "start_time": "2025-04-27T10:54:06.066Z"
   },
   {
    "duration": 297,
    "start_time": "2025-04-27T10:54:06.081Z"
   },
   {
    "duration": 12,
    "start_time": "2025-04-27T10:54:06.380Z"
   },
   {
    "duration": 62,
    "start_time": "2025-04-27T10:54:26.408Z"
   },
   {
    "duration": 6,
    "start_time": "2025-04-27T10:59:36.783Z"
   },
   {
    "duration": 105,
    "start_time": "2025-04-27T10:59:38.920Z"
   },
   {
    "duration": 3619,
    "start_time": "2025-04-27T10:59:40.978Z"
   },
   {
    "duration": 54575,
    "start_time": "2025-04-27T10:59:44.599Z"
   },
   {
    "duration": 65057,
    "start_time": "2025-04-27T11:00:39.176Z"
   },
   {
    "duration": 3,
    "start_time": "2025-04-27T11:01:44.235Z"
   },
   {
    "duration": 47,
    "start_time": "2025-04-27T11:01:44.240Z"
   },
   {
    "duration": 12,
    "start_time": "2025-04-27T11:02:35.003Z"
   },
   {
    "duration": 276,
    "start_time": "2025-04-27T11:02:35.740Z"
   },
   {
    "duration": 1393,
    "start_time": "2025-04-27T11:03:34.454Z"
   },
   {
    "duration": 10,
    "start_time": "2025-04-27T11:04:00.294Z"
   },
   {
    "duration": 13,
    "start_time": "2025-04-27T11:04:09.867Z"
   },
   {
    "duration": 13,
    "start_time": "2025-04-27T11:04:55.147Z"
   },
   {
    "duration": 79,
    "start_time": "2025-04-27T11:09:17.456Z"
   },
   {
    "duration": 70,
    "start_time": "2025-04-27T11:09:36.273Z"
   },
   {
    "duration": 9,
    "start_time": "2025-04-27T11:10:05.027Z"
   }
  ],
  "kernelspec": {
   "display_name": "Python 3 (ipykernel)",
   "language": "python",
   "name": "python3"
  },
  "language_info": {
   "codemirror_mode": {
    "name": "ipython",
    "version": 3
   },
   "file_extension": ".py",
   "mimetype": "text/x-python",
   "name": "python",
   "nbconvert_exporter": "python",
   "pygments_lexer": "ipython3",
   "version": "3.9.5"
  },
  "toc": {
   "base_numbering": 1,
   "nav_menu": {},
   "number_sections": true,
   "sideBar": true,
   "skip_h1_title": true,
   "title_cell": "Содержание",
   "title_sidebar": "Contents",
   "toc_cell": true,
   "toc_position": {},
   "toc_section_display": true,
   "toc_window_display": true
  }
 },
 "nbformat": 4,
 "nbformat_minor": 2
}
